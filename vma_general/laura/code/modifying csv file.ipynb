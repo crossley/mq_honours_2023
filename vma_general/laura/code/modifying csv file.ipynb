{
 "cells": [
  {
   "cell_type": "code",
   "execution_count": 40,
   "id": "a0bcf1ce-f951-4f79-8c5c-f79b89212c49",
   "metadata": {
    "scrolled": true
   },
   "outputs": [],
   "source": [
    "import pandas as pd\n",
    "\n",
    "# Read the CSV file\n",
    "df = pd.read_csv(r\"C:\\Users\\laura\\OneDrive\\Desktop\\Honours thesis - data collection\\Participant data\\cleaned data\\updated_data_trials_pID_1_s2.csv\")\n",
    "\n",
    "# Replace values in the \"target_angle\" column\n",
    "replacement_dict = {\n",
    "    315: -45,\n",
    "    270: -90,\n",
    "    225: -135,\n",
    "}\n",
    "\n",
    "df['target_angle'].replace(replacement_dict, inplace=True)\n",
    "\n",
    "# Replace values in the \"Endpoint_Theta\" column where \"target_angle\" is 180\n",
    "df['Endpoint_Theta'] = df.apply(\n",
    "    lambda row: abs(row['Endpoint_Theta']) if row['target_angle'] == 180 else row['Endpoint_Theta'],\n",
    "    axis=1\n",
    ")\n",
    "\n",
    "# Calculate the difference between \"target_angle\" and \"Endpoint_Theta\"\n",
    "df['difference'] = df.apply(lambda row: abs(row['target_angle'] - row['Endpoint_Theta']), axis=1)\n",
    "\n",
    "\n",
    "# Save the modified DataFrame to a new CSV file\n",
    "df.to_csv(r'C:\\Users\\laura\\OneDrive\\Desktop\\Honours thesis - data collection\\Participant data\\cleaned data\\v2_data_trials_pID_1_s2.csv', index=False)"
   ]
  },
  {
   "cell_type": "code",
   "execution_count": null,
   "id": "7c1fcb20-27d5-419b-9924-a1d1a08a0e4f",
   "metadata": {},
   "outputs": [],
   "source": []
  }
 ],
 "metadata": {
  "kernelspec": {
   "display_name": "Python 3 (ipykernel)",
   "language": "python",
   "name": "python3"
  },
  "language_info": {
   "codemirror_mode": {
    "name": "ipython",
    "version": 3
   },
   "file_extension": ".py",
   "mimetype": "text/x-python",
   "name": "python",
   "nbconvert_exporter": "python",
   "pygments_lexer": "ipython3",
   "version": "3.11.5"
  }
 },
 "nbformat": 4,
 "nbformat_minor": 5
}
