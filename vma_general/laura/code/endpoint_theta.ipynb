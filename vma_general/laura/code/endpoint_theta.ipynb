{
 "cells": [
  {
   "cell_type": "code",
   "execution_count": 25,
   "id": "22de1267-d427-468c-b195-ff0bedea4930",
   "metadata": {},
   "outputs": [],
   "source": [
    "import pandas as pd\n",
    "import numpy as np\n",
    "\n",
    "# Read the Excel file\n",
    "df = pd.read_csv(r\"C:\\Users\\laura\\OneDrive\\Desktop\\Honours thesis - data collection\\Participant data\\data_movements_pID_14_s2.csv\")\n",
    "\n",
    "# Convert x and y coordinates to polar coordinates\n",
    "def polar_theta_degrees(x, y):\n",
    "    radians = np.arctan2(y, x)\n",
    "    degrees = np.degrees(radians)\n",
    "    return degrees\n",
    "\n",
    "# Create a new DataFrame to store the endpoint theta for each reach phase\n",
    "endpoint_df = pd.DataFrame(columns=['Trial', 'Endpoint_Theta'])\n",
    "\n",
    "current_trial = None\n",
    "endpoint_theta = None\n",
    "\n",
    "# Iterate through rows in the original DataFrame\n",
    "for index, row in df.iterrows():\n",
    "    if row['state'] == 'reach':\n",
    "        endpoint_theta = polar_theta_degrees(row['x'], row['y'])\n",
    "        current_trial = row['trial']\n",
    "    elif current_trial is not None:\n",
    "        # If we are no longer in the \"reach\" state, add the endpoint theta to the original DataFrame\n",
    "        df.loc[index-1, 'Endpoint_Theta'] = endpoint_theta  # Store the endpoint theta in the original DataFrame\n",
    "        current_trial = None\n",
    "\n",
    "# Save the updated DataFrame to a new Excel file\n",
    "df.to_csv(r'C:\\Users\\laura\\OneDrive\\Desktop\\Honours thesis - data collection\\Participant data\\v2_data_movements_pID_14_s2.csv', index=False)"
   ]
  },
  {
   "cell_type": "code",
   "execution_count": null,
   "id": "c2b7b69f-b56f-46d2-aa82-83220ffd77f6",
   "metadata": {},
   "outputs": [],
   "source": []
  }
 ],
 "metadata": {
  "kernelspec": {
   "display_name": "Python 3 (ipykernel)",
   "language": "python",
   "name": "python3"
  },
  "language_info": {
   "codemirror_mode": {
    "name": "ipython",
    "version": 3
   },
   "file_extension": ".py",
   "mimetype": "text/x-python",
   "name": "python",
   "nbconvert_exporter": "python",
   "pygments_lexer": "ipython3",
   "version": "3.11.5"
  }
 },
 "nbformat": 4,
 "nbformat_minor": 5
}
