{
 "cells": [
  {
   "cell_type": "code",
   "execution_count": 36,
   "id": "a32dde83-65cd-4269-add8-7ccdd58bdcd6",
   "metadata": {},
   "outputs": [
    {
     "name": "stdout",
     "output_type": "stream",
     "text": [
      "Trials with 'reach' duration > 0.3 seconds:\n",
      "[1, 104, 134, 313, 528]\n",
      "Number of trials with 'reach' duration > 0.3 seconds: 5\n"
     ]
    }
   ],
   "source": [
    "import pandas as pd\n",
    "\n",
    "# Read the CSV file into a DataFrame 'd'\n",
    "d = pd.read_csv(r\"C:\\Users\\laura\\OneDrive\\Desktop\\Honours thesis - data collection\\Participant data\\data_movements_pID_14_s2.csv\")\n",
    "\n",
    "# Convert the 'time' column to numeric (float)\n",
    "d['time'] = pd.to_numeric(d['time'], errors='coerce')  # 'coerce' to handle non-numeric values\n",
    "\n",
    "# Create an empty list to store trial numbers\n",
    "result_trial_numbers = []\n",
    "\n",
    "# Iterate through each trial\n",
    "for trial_number, trial_data in d.groupby('trial'):\n",
    "    # Filter data for the 'reach' state within the trial\n",
    "    reach_data = trial_data[trial_data['state'] == 'reach']\n",
    "    \n",
    "    if not reach_data.empty:\n",
    "        # Calculate the difference between the last and first time samples of 'reach'\n",
    "        reach_duration = reach_data.iloc[-1]['time'] - reach_data.iloc[0]['time']\n",
    "        \n",
    "        # Check if the reach duration is greater than 0.3 seconds\n",
    "        if reach_duration > 0.3:\n",
    "            result_trial_numbers.append(trial_number + 1)\n",
    "\n",
    "# Print the trial numbers where 'reach' duration is greater than 0.3 seconds\n",
    "print(\"Trials with 'reach' duration > 0.3 seconds:\")\n",
    "print(result_trial_numbers)\n",
    "\n",
    "# Count the number of trial numbers in result_trial_numbers\n",
    "num_trial_numbers = len(result_trial_numbers)\n",
    "\n",
    "# Print the count\n",
    "print(\"Number of trials with 'reach' duration > 0.3 seconds:\", num_trial_numbers)"
   ]
  },
  {
   "cell_type": "code",
   "execution_count": 19,
   "id": "90ff6513-1783-4895-93e9-105e7fe0f2aa",
   "metadata": {},
   "outputs": [
    {
     "name": "stdout",
     "output_type": "stream",
     "text": [
      "Trials with 'reach' duration < 0.04 seconds:\n",
      "[]\n",
      "Number of trials with 'reach' duration < 0.04 seconds: 0\n"
     ]
    }
   ],
   "source": [
    "import pandas as pd\n",
    "\n",
    "# Read the CSV file into a DataFrame 'd'\n",
    "d = pd.read_csv(r\"C:\\Users\\laura\\OneDrive\\Desktop\\Honours thesis - data collection\\Participant data\\data_movements_pID_14_s2.csv\")\n",
    "\n",
    "# Convert the 'time' column to numeric (float)\n",
    "d['time'] = pd.to_numeric(d['time'], errors='coerce')  # 'coerce' to handle non-numeric values\n",
    "\n",
    "# Create an empty list to store trial numbers\n",
    "result_trial_numbers = []\n",
    "\n",
    "# Iterate through each trial\n",
    "for trial_number, trial_data in d.groupby('trial'):\n",
    "    # Filter data for the 'reach' state within the trial\n",
    "    reach_data = trial_data[trial_data['state'] == 'reach']\n",
    "    \n",
    "    if not reach_data.empty:\n",
    "        # Calculate the difference between the last and first time samples of 'reach'\n",
    "        reach_duration = reach_data.iloc[-1]['time'] - reach_data.iloc[0]['time']\n",
    "        \n",
    "        # Check if the reach duration is less than 0.04 seconds\n",
    "        if reach_duration < 0.04:\n",
    "            result_trial_numbers.append(trial_number + 1)\n",
    "\n",
    "# Print the trial numbers where 'reach' duration is greater than 0.04 seconds\n",
    "print(\"Trials with 'reach' duration < 0.04 seconds:\")\n",
    "print(result_trial_numbers)\n",
    "\n",
    "# Count the number of trial numbers in result_trial_numbers\n",
    "num_trial_numbers = len(result_trial_numbers)\n",
    "\n",
    "# Print the count\n",
    "print(\"Number of trials with 'reach' duration < 0.04 seconds:\", num_trial_numbers)"
   ]
  },
  {
   "cell_type": "code",
   "execution_count": null,
   "id": "a91387bd-446c-4390-9dd2-4a807c508717",
   "metadata": {},
   "outputs": [],
   "source": []
  }
 ],
 "metadata": {
  "kernelspec": {
   "display_name": "Python 3 (ipykernel)",
   "language": "python",
   "name": "python3"
  },
  "language_info": {
   "codemirror_mode": {
    "name": "ipython",
    "version": 3
   },
   "file_extension": ".py",
   "mimetype": "text/x-python",
   "name": "python",
   "nbconvert_exporter": "python",
   "pygments_lexer": "ipython3",
   "version": "3.11.5"
  }
 },
 "nbformat": 4,
 "nbformat_minor": 5
}
