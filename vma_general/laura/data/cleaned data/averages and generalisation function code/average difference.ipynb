{
 "cells": [
  {
   "cell_type": "code",
   "execution_count": 38,
   "id": "f8891994-b1e3-4e5c-b59d-4db7b55e91c6",
   "metadata": {},
   "outputs": [],
   "source": [
    "import pandas as pd\n",
    "\n",
    "# Read the existing CSV file\n",
    "df = pd.read_csv(r\"C:\\Users\\laura\\OneDrive\\Desktop\\Honours thesis - data collection\\Participant data\\cleaned data\\v2_data_trials_pID_1_s1.csv\")\n",
    "\n",
    "# Create a DataFrame for the new CSV file\n",
    "new_df = pd.DataFrame({'target': [0, 15, 30, 60, 75, 90, 135, 180, -135, -90, -45]})\n",
    "\n",
    "# Calculate the averages and add them to the \"average\" column\n",
    "averages = []\n",
    "\n",
    "for target in new_df['target']:\n",
    "    average = df[(df['trial'].between(241, 470)) & (df['target_angle'] == target)]['difference'].mean()\n",
    "    averages.append(average)\n",
    "\n",
    "new_df['average'] = averages\n",
    "\n",
    "# Save the new DataFrame to a new CSV file\n",
    "new_df.to_csv(r\"C:\\Users\\laura\\OneDrive\\Desktop\\Honours thesis - data collection\\Participant data\\cleaned data\\average_45_pID_1_s1.csv\", index=False)"
   ]
  },
  {
   "cell_type": "code",
   "execution_count": null,
   "id": "22743ce2-81d2-4e78-bb23-75d2ef350041",
   "metadata": {},
   "outputs": [],
   "source": []
  }
 ],
 "metadata": {
  "kernelspec": {
   "display_name": "Python 3 (ipykernel)",
   "language": "python",
   "name": "python3"
  },
  "language_info": {
   "codemirror_mode": {
    "name": "ipython",
    "version": 3
   },
   "file_extension": ".py",
   "mimetype": "text/x-python",
   "name": "python",
   "nbconvert_exporter": "python",
   "pygments_lexer": "ipython3",
   "version": "3.11.5"
  }
 },
 "nbformat": 4,
 "nbformat_minor": 5
}
